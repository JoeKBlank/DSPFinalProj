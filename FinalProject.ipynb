{
 "cells": [
  {
   "cell_type": "markdown",
   "id": "47265fb7",
   "metadata": {},
   "source": [
    "# Final Project - Data Science Programming \n",
    "## Joseph Blankenship and Jacob Mitchell"
   ]
  },
  {
   "cell_type": "markdown",
   "id": "165d927f",
   "metadata": {},
   "source": [
    "# United States Opioid Epidemic"
   ]
  },
  {
   "cell_type": "code",
   "execution_count": null,
   "id": "60707b98",
   "metadata": {
    "tags": []
   },
   "outputs": [],
   "source": [
    "import pandas as pd\n",
    "import matplotlib.pyplot as plt\n",
    "import seaborn as sns\n",
    "import numpy as np"
   ]
  },
  {
   "cell_type": "code",
   "execution_count": null,
   "id": "97044d0f",
   "metadata": {
    "tags": []
   },
   "outputs": [],
   "source": [
    "#Number and Age-adjusted rates of drug overdose death by state, US 2019\n",
    "overdoseByState = pd.read_csv(\"overdoseDeathByState.csv\")\n",
    "\n",
    "#Statistically Significant drug overdose death rate increase from 2018 to 2018 US States\n",
    "overdoseByState.describe()\n",
    "\n",
    "#Taken from cdc I believe\n",
    "overdoseIncrease = pd.read_csv(\"overdoseIncreaseRate.csv\")\n",
    "overdoseIncrease.describe()\n",
    "\n",
    "#Medicare Prescription Rate by State taken from \n",
    "# source = https://data.cms.gov/summary-statistics-on-use-and-payments/medicare-medicaid-opioid-prescribing-rates/medicare-part-d-opioid-prescribing-rates-by-geography\n",
    "medicare = pd.read_csv(\"medicarePrescriptionRates.csv\")\n",
    "#medicare['Prscrbr_Geo_Desc'].tolist()\n",
    "#medicare"
   ]
  },
  {
   "cell_type": "markdown",
   "id": "cffbf7f0",
   "metadata": {},
   "source": [
    "**A Value of A value of “State” indicates the data in the row is aggregated to the state of the prescriber as determined by the ZIP reference table.** \n",
    "This means in order to match our data to the state level given by the CDC datasets about opiod overdose increase rates at the state level, we should probably drop data where the information is lower or higher than state level. "
   ]
  },
  {
   "cell_type": "code",
   "execution_count": null,
   "id": "205a509f",
   "metadata": {
    "scrolled": true,
    "tags": []
   },
   "outputs": [],
   "source": [
    "#Dropping Rows that are lower or higher scale than state\n",
    "medicare = medicare[medicare['Prscrbr_Geo_Desc'].isin(overdoseByState['Location'].values)]\n",
    "#RUCA_Cd is only recorded at the ZIPCODE level, so these values are not useful\n",
    "medicare.drop(columns=['RUCA_Cd'])"
   ]
  },
  {
   "cell_type": "code",
   "execution_count": null,
   "id": "d3b44040",
   "metadata": {
    "tags": []
   },
   "outputs": [],
   "source": [
    "#overdoseByState\n",
    "#overdoseIncrease\n",
    "#medicare"
   ]
  },
  {
   "cell_type": "markdown",
   "id": "250bc5c4",
   "metadata": {},
   "source": [
    "# Some important visualizations to get an understanding of the data we have collected"
   ]
  },
  {
   "cell_type": "code",
   "execution_count": null,
   "id": "861a8dca",
   "metadata": {
    "tags": []
   },
   "outputs": [],
   "source": [
    "#Below I've parsed information to show a visual representation of how many deaths there were per state in 2019 \n",
    "overdoseByState['Location'] = overdoseByState['Location'].astype(str)\n",
    "sns.set(rc={\"figure.figsize\":(20, 6)})\n",
    "odBSBar = sns.barplot(data=overdoseByState, x='Location', y='2019 Number of Deaths')\n",
    "odBSBar.set_xticklabels(labels=overdoseByState['Location'], rotation=90)"
   ]
  },
  {
   "cell_type": "markdown",
   "id": "2552d7a0",
   "metadata": {},
   "source": [
    "## 2019 Number of Deaths in Each State in the United States illustrated above\n",
    "As garnered by the graph above, we can see that California, Florida, Pennsylvania, Ohio, and New York have among the highest number of deaths by opioid overdose in the year 2019. What can we take away from this information?\n",
    "**Midwest is plagued, states with higher population more succeptable?** \n",
    "What can we see when we compare this visual with how opioids were dispersed?\n"
   ]
  },
  {
   "cell_type": "code",
   "execution_count": null,
   "id": "2c074b5e",
   "metadata": {
    "tags": []
   },
   "outputs": [],
   "source": [
    "#Here I'm parsing out medicare information for the state level in just the year 2019\n",
    "medicare2019 = medicare[medicare['Year']==2019]\n",
    "medicare2019Overall = medicare2019[medicare2019['Breakout']=='Overall']\n",
    "medicare2019Overall"
   ]
  },
  {
   "cell_type": "code",
   "execution_count": null,
   "id": "c8272493",
   "metadata": {
    "tags": []
   },
   "outputs": [],
   "source": [
    "#Same thing happening here for medicare this time instead of overdose deaths\n",
    "sns.set(rc={\"figure.figsize\":(20, 6)}) \n",
    "presRateBar = sns.barplot(data=medicare2019Overall, x='Prscrbr_Geo_Desc', y='LA_Opioid_Prscrbng_Rate')\n",
    "presRateBar.set_xticklabels(labels=medicare2019Overall['Prscrbr_Geo_Desc'], rotation=90)"
   ]
  },
  {
   "cell_type": "markdown",
   "id": "043b8a14",
   "metadata": {},
   "source": [
    "## It seems that the states that have the highest opioid deaths actually aren't the same states that disperse the most opioids\n",
    "**At least not in 2019**"
   ]
  },
  {
   "cell_type": "code",
   "execution_count": null,
   "id": "88e42648",
   "metadata": {
    "tags": []
   },
   "outputs": [],
   "source": [
    "#Here I'm parsing out medicare information for the state level in just the year 2019\n",
    "medicare2018 = medicare[medicare['Year']==2018]\n",
    "medicare2018Overall = medicare2018[medicare2018['Breakout']=='Overall']"
   ]
  },
  {
   "cell_type": "code",
   "execution_count": null,
   "id": "d5a09adf",
   "metadata": {
    "tags": []
   },
   "outputs": [],
   "source": [
    "#Same thing happening here for medicare this time instead of overdose deaths\n",
    "sns.set(rc={\"figure.figsize\":(20, 6)}) \n",
    "presRateBar = sns.barplot(data=medicare2018Overall, x='Prscrbr_Geo_Desc', y='LA_Opioid_Prscrbng_Rate')\n",
    "presRateBar.set_xticklabels(labels=medicare2018Overall['Prscrbr_Geo_Desc'], rotation=90)"
   ]
  },
  {
   "cell_type": "code",
   "execution_count": null,
   "id": "8c51b64c",
   "metadata": {
    "tags": []
   },
   "outputs": [],
   "source": [
    "sns.set(rc={\"figure.figsize\":(20, 6)}) \n",
    "presRateBar = sns.barplot(data=medicare2019Overall, x='Prscrbr_Geo_Desc', y='Tot_Opioid_Prscrbrs')\n",
    "presRateBar.set_xticklabels(labels=medicare2019Overall['Prscrbr_Geo_Desc'], rotation=90)"
   ]
  },
  {
   "cell_type": "markdown",
   "id": "bc742b81",
   "metadata": {},
   "source": [
    "# Bingo! It looks like there may be a positive correlation between total opioid prescriptions on the state level and deaths per state"
   ]
  },
  {
   "cell_type": "markdown",
   "id": "16efc368",
   "metadata": {},
   "source": [
    "# Bayesian Modeling\n",
    "**p(theta | y) = p(y | theta)p(theta)/p(y)**\n",
    "\n"
   ]
  },
  {
   "cell_type": "code",
   "execution_count": null,
   "id": "c85ea1bb",
   "metadata": {
    "tags": []
   },
   "outputs": [],
   "source": [
    "result = medicare2019.append([overdoseByState])"
   ]
  },
  {
   "cell_type": "code",
   "execution_count": null,
   "id": "dc649ed7",
   "metadata": {
    "tags": []
   },
   "outputs": [],
   "source": [
    "horizontal_stack = pd.concat([medicare2019Overall, overdoseByState], axis=1)"
   ]
  },
  {
   "cell_type": "code",
   "execution_count": null,
   "id": "91763ac0",
   "metadata": {
    "tags": []
   },
   "outputs": [],
   "source": [
    "#horizontal_stack\n",
    "\n",
    "#medicare2019.set_index(\"Prscrbr_Geo_Desc\")\n",
    "#overdoseByState.set_index(\"Location\")\n",
    "#horizontal_stack_state = pd.merge(medicare2019Overall, overdoseByState, on =  )"
   ]
  },
  {
   "cell_type": "code",
   "execution_count": null,
   "id": "b8d4c156-428a-4515-9baf-86670b422908",
   "metadata": {
    "tags": []
   },
   "outputs": [],
   "source": [
    "#Set the index of our dataframes to the state, then rename \"Location\" and \"Prscrbr_Geo_Desc\" as \"state\" in both files\n",
    "#This lets us merge them so that the columns align correctly.\n",
    "medicare2019Overall.rename(columns = {'Prscrbr_Geo_Desc' : 'state'}, inplace = True)\n",
    "overdoseByState.rename(columns = {'Location' : 'state'}, inplace = True)\n",
    "\n"
   ]
  },
  {
   "cell_type": "code",
   "execution_count": null,
   "id": "235131c8",
   "metadata": {
    "tags": []
   },
   "outputs": [],
   "source": [
    "medicare2019Overall.reset_index(drop = True)\n",
    "\n",
    "\n",
    "#merged_inner = pd.merge(medicare2019Overall, overdoseByState, )\n",
    "#horizontal_stack_state\n",
    "#medicare2019.reset_index(drop = True)\n",
    "#medicare2019.drop(columns = \"index\")\n",
    "#overdoseByState.reset_index(drop = True)\n",
    "#deaths_2019 = overdoseByState[\"2019 Number of Deaths\"]\n",
    "#medicare2019"
   ]
  },
  {
   "cell_type": "code",
   "execution_count": null,
   "id": "37fc4e7e",
   "metadata": {
    "tags": []
   },
   "outputs": [],
   "source": [
    "#medicare2019_aug = pd.concat([medicare2019Overall, deaths_2019], axis = 1)\n",
    "overdoseByState.reset_index(drop = True)"
   ]
  },
  {
   "cell_type": "code",
   "execution_count": null,
   "id": "27d7c96c-2854-4517-99fe-b1e60041c27c",
   "metadata": {
    "tags": []
   },
   "outputs": [],
   "source": [
    "overdoseByState.drop([51]) #This only has NaN values, just drop it."
   ]
  },
  {
   "cell_type": "code",
   "execution_count": null,
   "id": "40af7a8b-a48e-42c9-8ae7-a7571fd9c1ea",
   "metadata": {
    "tags": []
   },
   "outputs": [],
   "source": [
    "state_2019 = pd.merge(medicare2019Overall, overdoseByState, left_on = 'state', right_on = 'state')\n",
    "state_2019"
   ]
  },
  {
   "cell_type": "code",
   "execution_count": null,
   "id": "834ed85d-9c2e-4510-90ef-952c04c7c4ce",
   "metadata": {
    "tags": []
   },
   "outputs": [],
   "source": [
    "#Relevant operations (save for later/reference)\n",
    "#merged_inner = pd.merge(medicare2019Overall, overdoseByState, )\n",
    "#horizontal_stack_state\n",
    "#medicare2019.reset_index(drop = True)\n",
    "#medicare2019.drop(columns = \"index\")\n",
    "#overdoseByState.reset_index(drop = True)\n",
    "#deaths_2019 = overdoseByState[\"2019 Number of Deaths\"]\n",
    "#medicare2019\n",
    "#overdoseByState.drop([51])\n",
    "#overdoseByState.rename(columns = {'Location' : 'state'}, inplace = True)\n",
    "#medicare2019.rename(columns = {'Prscrbr_Geo_Desc' : 'state'}, inplace = True)\n",
    "#horizontal_stack_state = pd.concat([medicare2019Overall, overdoseByState], ignore_index = True)"
   ]
  },
  {
   "cell_type": "code",
   "execution_count": null,
   "id": "02b779bd-9c0c-4a7f-8f00-ce8ade9065c9",
   "metadata": {
    "tags": []
   },
   "outputs": [],
   "source": [
    "#Get 2018 medicare data\n",
    "medicare2018 = medicare[medicare['Year']==2018]\n",
    "medicare2018Overall = medicare2018[medicare2018['Breakout']=='Overall']\n",
    "#medicare2018Overall"
   ]
  },
  {
   "cell_type": "code",
   "execution_count": null,
   "id": "d5a6dcb5-2e89-4d0c-8e97-5badd962fdbd",
   "metadata": {
    "tags": []
   },
   "outputs": [],
   "source": [
    "medicare2018Overall.rename(columns = {'Prscrbr_Geo_Desc' : 'state'}, inplace = True)"
   ]
  },
  {
   "cell_type": "code",
   "execution_count": null,
   "id": "e1171d02-1532-4bdf-adb7-4a95edb7bb79",
   "metadata": {
    "tags": []
   },
   "outputs": [],
   "source": [
    "#Get 2017 medicare data\n",
    "medicare2017 = medicare[medicare['Year']==2017]\n",
    "medicare2017Overall = medicare2017[medicare2017['Breakout']=='Overall']\n",
    "#medicare2017Overall"
   ]
  },
  {
   "cell_type": "code",
   "execution_count": null,
   "id": "d16fd228-7792-415a-a019-e272028f649a",
   "metadata": {
    "tags": []
   },
   "outputs": [],
   "source": [
    "#Read in the remaining data\n",
    "overdoseByState2018 = pd.read_csv(\"overdoseDeath2018.csv\")\n",
    "overdoseByState2017 = pd.read_csv(\"overdoseDeath2017.csv\")\n",
    "population = pd.read_csv(\"statePopulations.csv\")"
   ]
  },
  {
   "cell_type": "code",
   "execution_count": null,
   "id": "a2c0135e-534a-4399-961d-445ae97a569b",
   "metadata": {
    "tags": []
   },
   "outputs": [],
   "source": [
    "#population = pd.read_csv(\"statePopulations.csv\")\n",
    "#population.iloc[16]"
   ]
  },
  {
   "cell_type": "code",
   "execution_count": null,
   "id": "8eed1886-a778-49f9-848a-2462c5c7e334",
   "metadata": {
    "tags": []
   },
   "outputs": [],
   "source": [
    "#population\n",
    "medicare2018Overall.rename(columns = {'Prscrbr_Geo_Desc' : 'state'}, inplace = True)\n",
    "medicare2017Overall.rename(columns = {'Prscrbr_Geo_Desc' : 'state'}, inplace = True)"
   ]
  },
  {
   "cell_type": "code",
   "execution_count": null,
   "id": "a58d3502-fb71-496e-8541-c7cb97fef7aa",
   "metadata": {
    "tags": []
   },
   "outputs": [],
   "source": [
    "medicare2018Overall.reset_index(drop = True)\n",
    "medicare2017Overall.reset_index(drop = True)"
   ]
  },
  {
   "cell_type": "code",
   "execution_count": null,
   "id": "b36eb430-fffb-4a49-9a08-2a7d8291ce82",
   "metadata": {
    "tags": []
   },
   "outputs": [],
   "source": [
    "state_2018 = pd.merge(medicare2018Overall, overdoseByState2018, left_on = 'state', right_on = 'state')"
   ]
  },
  {
   "cell_type": "code",
   "execution_count": null,
   "id": "74a754f3-ac15-44ea-b4e3-655685ed43f9",
   "metadata": {
    "tags": []
   },
   "outputs": [],
   "source": [
    "state_2018"
   ]
  },
  {
   "cell_type": "code",
   "execution_count": null,
   "id": "0792df9c-dbdb-4952-bb02-ccc8f79fe56e",
   "metadata": {
    "tags": []
   },
   "outputs": [],
   "source": [
    "state_2017 = pd.merge(medicare2017Overall, overdoseByState2017, left_on = 'state', right_on = 'state')"
   ]
  },
  {
   "cell_type": "code",
   "execution_count": null,
   "id": "4c9b458f-0d22-49ee-b726-578c74f12151",
   "metadata": {
    "tags": []
   },
   "outputs": [],
   "source": [
    "state_2017"
   ]
  },
  {
   "cell_type": "code",
   "execution_count": null,
   "id": "85043799-6344-483d-96fc-1a19886d7357",
   "metadata": {
    "tags": []
   },
   "outputs": [],
   "source": [
    "#DATAFRAMES WE HAVE SO FAR:\n",
    "#state_2017,state_2018,state_2019   this is medicaid prescription data and deaths by state combined\n",
    "#population    this is total population estimates from 2010 to 2019\n",
    "#medicaidOverall2017, medicaidOverall2018, medicaidOverall2019  this is just the medicaid information by state for the respective years\n",
    "#overdoseByState, this is the 2019 death information\n",
    "#overdoseByState2017, overdoseByState2018, overdoseByState2019"
   ]
  },
  {
   "cell_type": "code",
   "execution_count": null,
   "id": "3995809d-22a7-4ff3-bc68-919dfefcc9ea",
   "metadata": {
    "tags": []
   },
   "outputs": [],
   "source": [
    "#For now, we don't need the totals. We just want the populations per state. This also drops Puerto Rico. We don't have that information\n",
    "#from the other data sets.\n",
    "population_states = population.iloc[5:55,0:]\n"
   ]
  },
  {
   "cell_type": "markdown",
   "id": "f940c857",
   "metadata": {},
   "source": [
    "# Beginning of Normalization of 2017 Stats"
   ]
  },
  {
   "cell_type": "code",
   "execution_count": null,
   "id": "2c87142c-6aec-48e1-a18a-2dc3be4633d3",
   "metadata": {
    "tags": []
   },
   "outputs": [],
   "source": [
    "#Drop district of columbia. We don't have that medicaid info.\n",
    "population_states.drop([13])"
   ]
  },
  {
   "cell_type": "code",
   "execution_count": null,
   "id": "0a4b2bee-6b20-4ad7-a5c6-83b2ecd1818c",
   "metadata": {
    "tags": []
   },
   "outputs": [],
   "source": [
    "population_states.reset_index(drop = True)"
   ]
  },
  {
   "cell_type": "code",
   "execution_count": null,
   "id": "ad38d8bd-9423-4507-a3e3-9cebd110e55a",
   "metadata": {
    "tags": []
   },
   "outputs": [],
   "source": [
    "stats_by_pop_2017 = {} #this is in alphabetical order\n",
    "\n",
    "#Was having a lot of trouble trying to iterate through the dataframe. Instead, I pulled our the series that we want.\n",
    "#It is a little easier with this.\n",
    "pop_2017 = population_states['2017']\n",
    "deaths_2017 = state_2017['2017_num_deaths']\n",
    "LAprs_2017 = state_2017['LA_Tot_Opioid_Clms']\n",
    "state_list = state_2017['state']\n"
   ]
  },
  {
   "cell_type": "code",
   "execution_count": null,
   "id": "2d02e37b-1311-4f37-8c21-63e1b2429464",
   "metadata": {
    "tags": []
   },
   "outputs": [],
   "source": [
    "#Set the state names as the key for this dictionary\n",
    "for row in state_list:\n",
    "    state = row\n",
    "    stats_by_pop_2017[state] = {} #creating dict inside dict\n",
    "    "
   ]
  },
  {
   "cell_type": "code",
   "execution_count": null,
   "id": "daf08dd7-39aa-4130-a035-06d5e17fbdc9",
   "metadata": {
    "tags": []
   },
   "outputs": [],
   "source": [
    "normalized_deaths = [] \n",
    "size_A = pop_2017.size\n",
    "\n",
    "#I think we need to get the comma out of our numbers so they're more workable\n",
    "#I tried your usual str -> int conversion int(pop), but there was an error\n",
    "#that had something to do with the base of the number, base 2, 10 etc.\n",
    "#It only really worked when I removed the commas from the strings\n",
    "for x in range(size_A):\n",
    "    pop = pop_2017.iloc[x]\n",
    "    pop = int(pop.replace(',',''))\n",
    "    deaths = deaths_2017.iloc[x]\n",
    "    deaths = int(deaths.replace(',',''))\n",
    "    stat = (deaths/pop) * 100000 #multiplied by large integer so we are not dealing with super small vals like 0.0003\n",
    "    normalized_deaths.append(stat)\n",
    "\n"
   ]
  },
  {
   "cell_type": "code",
   "execution_count": null,
   "id": "cf26c39f-45cd-4ab0-9f89-a42a3d7c4563",
   "metadata": {
    "tags": []
   },
   "outputs": [],
   "source": [
    "#normalized_deaths"
   ]
  },
  {
   "cell_type": "code",
   "execution_count": null,
   "id": "ab78c185-9e72-4165-8b82-1753a9e23b71",
   "metadata": {
    "tags": []
   },
   "outputs": [],
   "source": [
    "normalized_LA_pres = []\n",
    "size_A = pop_2017.size\n",
    "\n",
    "#Same as above but for a different stat\n",
    "for x in range(size_A):\n",
    "    pop = pop_2017.iloc[x]\n",
    "    pop = int(pop.replace(',',''))\n",
    "    pres = LAprs_2017.iloc[x]\n",
    "    #pres = int(pres.replace(',',''))\n",
    "    stat = (pres/pop) * 100000 \n",
    "    normalized_LA_pres.append(stat)"
   ]
  },
  {
   "cell_type": "code",
   "execution_count": null,
   "id": "f3c737ce-82be-4a48-8e4b-9144ce96c257",
   "metadata": {
    "tags": []
   },
   "outputs": [],
   "source": [
    "#normalized_LA_pres"
   ]
  },
  {
   "cell_type": "code",
   "execution_count": null,
   "id": "ffc8dfd5-d3c1-4ce7-b844-37b6fb17c11d",
   "metadata": {
    "tags": []
   },
   "outputs": [],
   "source": [
    "#Read in the stats for each state. This is a dict inside of a dict\n",
    "count = 0\n",
    "for row in state_list:\n",
    "    state = row\n",
    "    #added _ to names below\n",
    "    stats_by_pop_2017[state] = {'Normalized_Death_Rate' : [normalized_deaths[count]], 'Normalized_Long-Acting_Rate' : [normalized_LA_pres[count]]}\n",
    "    count += 1\n"
   ]
  },
  {
   "cell_type": "code",
   "execution_count": null,
   "id": "98d0291a-3b86-41af-95f9-d2748a8cc568",
   "metadata": {
    "tags": []
   },
   "outputs": [],
   "source": [
    "norm_stats = pd.DataFrame\n",
    "frames = []\n",
    "for row in state_list:\n",
    "    df = pd.DataFrame.from_dict(stats_by_pop_2017[row])\n",
    "    frames.append(df)\n",
    "\n",
    "norm_stats = pd.concat(frames, sort = False)"
   ]
  },
  {
   "cell_type": "code",
   "execution_count": null,
   "id": "c52af04d-5f5f-42e5-accd-9d949981aa98",
   "metadata": {
    "tags": []
   },
   "outputs": [],
   "source": [
    "norm_stats.reset_index(drop = True)"
   ]
  },
  {
   "cell_type": "code",
   "execution_count": null,
   "id": "4a804c02-13f1-4293-b996-c4c854eb7d5b",
   "metadata": {
    "tags": []
   },
   "outputs": [],
   "source": [
    "\n",
    "#state_2017 = pd.merge(state_2017, norm_stats, left_index = True, right_index = True)"
   ]
  },
  {
   "cell_type": "code",
   "execution_count": null,
   "id": "a975d82d-778a-4ac1-99bc-058f53b2edd7",
   "metadata": {},
   "outputs": [],
   "source": [
    "norm_stats.index = state_list\n",
    "state_2017 = pd.merge(state_2017, norm_stats, on='state')\n",
    "state_2017.index = state_list\n",
    "state_2017"
   ]
  },
  {
   "cell_type": "markdown",
   "id": "c04deed0",
   "metadata": {},
   "source": [
    "# Repeating the Process for 2018"
   ]
  },
  {
   "cell_type": "code",
   "execution_count": null,
   "id": "87411957",
   "metadata": {},
   "outputs": [],
   "source": [
    "stats_by_pop_2018 = {} #this is in alphabetical order\n",
    "\n",
    "#Was having a lot of trouble trying to iterate through the dataframe. Instead, I pulled our the series that we want.\n",
    "#It is a little easier with this.\n",
    "pop_2018 = population_states['2018']\n",
    "deaths_2018 = state_2018['2018_num_deaths']\n",
    "LAprs_2018 = state_2018['LA_Tot_Opioid_Clms']\n",
    "state_list = state_2018['state']\n"
   ]
  },
  {
   "cell_type": "code",
   "execution_count": null,
   "id": "8bd2df6c",
   "metadata": {},
   "outputs": [],
   "source": [
    "#Set the state names as the key for this dictionary\n",
    "for row in state_list:\n",
    "    state = row\n",
    "    stats_by_pop_2018[state] = {} #creating dict inside dict"
   ]
  },
  {
   "cell_type": "code",
   "execution_count": null,
   "id": "b676caa5",
   "metadata": {},
   "outputs": [],
   "source": [
    "normalized_deaths2018 = [] \n",
    "size_B = pop_2018.size\n",
    "\n",
    "#I think we need to get the comma out of our numbers so they're more workable\n",
    "#I tried your usual str -> int conversion int(pop), but there was an error\n",
    "#that had something to do with the base of the number, base 2, 10 etc.\n",
    "#It only really worked when I removed the commas from the strings\n",
    "for x in range(size_B):\n",
    "    pop = pop_2018.iloc[x]\n",
    "    pop = int(pop.replace(',',''))\n",
    "    deaths = deaths_2018.iloc[x]\n",
    "    deaths = int(deaths.replace(',',''))\n",
    "    stat = (deaths/pop) * 100000 #multiplied by large integer so we are not dealing with super small vals like 0.0003\n",
    "    normalized_deaths2018.append(stat)\n",
    "\n",
    "#normalized_deaths2018"
   ]
  },
  {
   "cell_type": "code",
   "execution_count": null,
   "id": "a2d47759",
   "metadata": {},
   "outputs": [],
   "source": [
    "normalized_LA_pres2018 = []\n",
    "size_B = pop_2018.size\n",
    "\n",
    "#Same as above but for a different stat\n",
    "for x in range(size_B):\n",
    "    pop = pop_2018.iloc[x]\n",
    "    pop = int(pop.replace(',',''))\n",
    "    pres = LAprs_2018.iloc[x]\n",
    "    #pres = int(pres.replace(',',''))\n",
    "    stat = (pres/pop) * 100000 \n",
    "    normalized_LA_pres2018.append(stat)\n",
    "#normalized_LA_pres2018"
   ]
  },
  {
   "cell_type": "code",
   "execution_count": null,
   "id": "c3788618",
   "metadata": {},
   "outputs": [],
   "source": [
    "#Read in the stats for each state. This is a dict inside of a dict\n",
    "count = 0\n",
    "for row in state_list:\n",
    "    state = row\n",
    "    stats_by_pop_2018[state] = {'Normalized_Death_Rate' : [normalized_deaths2018[count]], 'Normalized_Long-Acting_Rate' : [normalized_LA_pres2018[count]]}\n",
    "    count += 1"
   ]
  },
  {
   "cell_type": "code",
   "execution_count": null,
   "id": "fd456be4",
   "metadata": {},
   "outputs": [],
   "source": [
    "norm_stats2018 = pd.DataFrame\n",
    "frames = []\n",
    "for row in state_list:\n",
    "    df = pd.DataFrame.from_dict(stats_by_pop_2018[row])\n",
    "    frames.append(df)\n",
    "    \n",
    "norm_stats2018 = pd.concat(frames, sort = False)"
   ]
  },
  {
   "cell_type": "code",
   "execution_count": null,
   "id": "bae95ff1",
   "metadata": {},
   "outputs": [],
   "source": [
    "norm_stats2018.reset_index(drop = True)"
   ]
  },
  {
   "cell_type": "code",
   "execution_count": null,
   "id": "4038c8c6",
   "metadata": {},
   "outputs": [],
   "source": [
    "norm_stats2018"
   ]
  },
  {
   "cell_type": "code",
   "execution_count": null,
   "id": "3e7a2409",
   "metadata": {},
   "outputs": [],
   "source": [
    "norm_stats2018.index = state_list\n",
    "state_2018 = pd.merge(state_2018, norm_stats2018, on='state')\n",
    "state_2018.index = state_list\n",
    "state_2018"
   ]
  },
  {
   "cell_type": "code",
   "execution_count": null,
   "id": "1ad7d95e",
   "metadata": {},
   "outputs": [],
   "source": [
    "#norm_stats2018.index = state_list\n",
    "#state_2018 = pd.merge(state_2017, norm_stats, on='state')\n",
    "#state_2018.index = state_list\n",
    "#state_2018"
   ]
  },
  {
   "cell_type": "code",
   "execution_count": null,
   "id": "0379c1bd",
   "metadata": {},
   "outputs": [],
   "source": []
  },
  {
   "cell_type": "markdown",
   "id": "8a9b3fa5",
   "metadata": {},
   "source": [
    "# Finding Number of Clusters"
   ]
  },
  {
   "cell_type": "code",
   "execution_count": null,
   "id": "5cdc8d14",
   "metadata": {},
   "outputs": [],
   "source": [
    "from sklearn import mixture\n",
    "from sklearn.cluster import KMeans\n",
    "from sklearn.decomposition import PCA\n",
    "#import seaborn as sns\n",
    "import statsmodels.formula.api as smf # Statsmodels - https://www.statsmodels.org/stable/index.html\n",
    "from sklearn import linear_model # Scikit-Learn - https://scikit-learn.org/ "
   ]
  },
  {
   "cell_type": "code",
   "execution_count": null,
   "id": "52713b92",
   "metadata": {},
   "outputs": [],
   "source": [
    "sns.heatmap(state_2018.corr(), cmap ='RdYlGn', linewidths = 0.30, annot = False)"
   ]
  },
  {
   "cell_type": "code",
   "execution_count": null,
   "id": "36dece3c-23d4-48f1-b6f2-a5a73f3eb673",
   "metadata": {},
   "outputs": [],
   "source": [
    "#np.reshape(state_2018['2018_age_adjusted_rate'].to_numpy, (-1,1)) \n",
    "#np.reshape(death_array,(50,1))\n",
    "#state_2018['Normalized_Death_Rate '].shape"
   ]
  },
  {
   "cell_type": "code",
   "execution_count": null,
   "id": "71694968-b7bb-4f22-88d2-4f11074dab5a",
   "metadata": {},
   "outputs": [],
   "source": [
    "#state_2018['Normalized_Death_Rate '].shape"
   ]
  },
  {
   "cell_type": "code",
   "execution_count": null,
   "id": "e7e837ce-e0b3-4105-91fc-ff26ac40e7c4",
   "metadata": {},
   "outputs": [],
   "source": [
    "#np.reshape(state_2018['LA_Opioid_Prscrbng_Rate'].to_numpy(),(-1,1))"
   ]
  },
  {
   "cell_type": "code",
   "execution_count": null,
   "id": "aa0d9914-9128-4dc5-b94d-1cadec135d7a",
   "metadata": {},
   "outputs": [],
   "source": [
    "#state_2018['LA_Opioid_Prscrbng_Rate'].values.reshape(-1,1)\n",
    "#state_2018['2018_age_adjusted_rate'].values.reshape(-1,1)"
   ]
  },
  {
   "cell_type": "code",
   "execution_count": null,
   "id": "23a6dcd5-d2f9-485c-8364-2e9e20ea0b29",
   "metadata": {},
   "outputs": [],
   "source": [
    "#lr = linear_model.LinearRegression()\n",
    "#predicted = lr.fit(X=state_2018['2018_age_adjusted_rate'], y=state_2018['range_category'])"
   ]
  },
  {
   "cell_type": "code",
   "execution_count": null,
   "id": "3cae7a90-75ce-4cd8-ab0b-21083d84d3b4",
   "metadata": {},
   "outputs": [],
   "source": []
  },
  {
   "cell_type": "code",
   "execution_count": null,
   "id": "1351b673",
   "metadata": {},
   "outputs": [],
   "source": [
    "#Pausing work on this for the moment\n",
    "# kmeans = KMeans(n_clusters=3).fit(state_2018.values)\n",
    "# print(kmeans, \"\\n\")\n",
    "# print(np.unique(kmeans.labels_, return_counts=True))\n",
    "# print(kmeans.cluster_centers_)\n",
    "# kmeans_3 = pd.DataFrame(kmeans.labels_, columns=['cluster'])\n",
    "# print(kmeans_3)"
   ]
  },
  {
   "cell_type": "code",
   "execution_count": null,
   "id": "5ae77c99-f180-474a-9e4d-441a9ed0a524",
   "metadata": {},
   "outputs": [],
   "source": []
  }
 ],
 "metadata": {
  "kernelspec": {
   "display_name": "Python 3 (ipykernel)",
   "language": "python",
   "name": "python3"
  },
  "language_info": {
   "codemirror_mode": {
    "name": "ipython",
    "version": 3
   },
   "file_extension": ".py",
   "mimetype": "text/x-python",
   "name": "python",
   "nbconvert_exporter": "python",
   "pygments_lexer": "ipython3",
   "version": "3.9.7"
  }
 },
 "nbformat": 4,
 "nbformat_minor": 5
}
